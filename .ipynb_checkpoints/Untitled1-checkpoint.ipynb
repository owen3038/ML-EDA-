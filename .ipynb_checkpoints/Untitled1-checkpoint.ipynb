{
 "cells": [
  {
   "cell_type": "code",
   "execution_count": 16,
   "id": "75602d11-1ea8-4f38-8401-f15e3d3dadc3",
   "metadata": {},
   "outputs": [],
   "source": [
    "# Import necessary libraries\n",
    "import pandas as pd           # For handling datasets\n",
    "import numpy as np            # For numerical operations\n",
    "import matplotlib.pyplot as plt  # For data visualization\n",
    "\n",
    "\n",
    "# Configure matplotlib for inline display (for Jupyter Notebook)\n",
    "%matplotlib inline\n",
    "\n"
   ]
  },
  {
   "cell_type": "code",
   "execution_count": null,
   "id": "e7275f19-14e0-432c-bbf0-9b38800b7b92",
   "metadata": {},
   "outputs": [],
   "source": [
    "df = pd.read_csv(\"GenZ_DatingApp_Data.csv\")\n"
   ]
  },
  {
   "cell_type": "code",
   "execution_count": null,
   "id": "86c442c5-3002-4355-bef9-e16501a6d57c",
   "metadata": {},
   "outputs": [],
   "source": []
  }
 ],
 "metadata": {
  "kernelspec": {
   "display_name": "Python 3 (ipykernel)",
   "language": "python",
   "name": "python3"
  },
  "language_info": {
   "codemirror_mode": {
    "name": "ipython",
    "version": 3
   },
   "file_extension": ".py",
   "mimetype": "text/x-python",
   "name": "python",
   "nbconvert_exporter": "python",
   "pygments_lexer": "ipython3",
   "version": "3.12.8"
  }
 },
 "nbformat": 4,
 "nbformat_minor": 5
}
