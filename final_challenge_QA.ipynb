{
 "cells": [
  {
   "cell_type": "code",
   "execution_count": 1,
   "id": "00d7c705-c61f-4d61-82c7-cec89b55e9de",
   "metadata": {},
   "outputs": [],
   "source": [
    "with open(\"final_challenge_QA.md\", \"w\", encoding=\"utf-8\") as file:\n",
    "    file.write(\"\"\"\n",
    "# Final Challenge - Interactive Q&A\n",
    "\n",
    "## 1️⃣ If a dating app wanted to expand into rural India, which insights from this dataset would be most valuable?\n",
    "- Metro users are more active, but rural users spend significant time on dating apps.\n",
    "- Expansion should focus on engagement strategies for rural areas.\n",
    "- Internet and smartphone penetration need to be considered.\n",
    "\n",
    "## 2️⃣ If you were designing a new dating app based on this data, what two features would you add?\n",
    "1. **Better Matching Algorithm** - Use data-driven compatibility scoring.\n",
    "2. **Flexible Communication Options** - Video, voice, and text chat.\n",
    "\n",
    "## 3️⃣ What were the biggest data cleaning challenges in this dataset?\n",
    "- Standardizing categorical values.\n",
    "- Handling missing values in key columns.\n",
    "- Converting text-based time values to numerical format.\n",
    "\"\"\")\n"
   ]
  },
  {
   "cell_type": "code",
   "execution_count": null,
   "id": "b3844968-106e-4718-ac3b-8f0039980704",
   "metadata": {},
   "outputs": [],
   "source": []
  }
 ],
 "metadata": {
  "kernelspec": {
   "display_name": "Python 3 (ipykernel)",
   "language": "python",
   "name": "python3"
  },
  "language_info": {
   "codemirror_mode": {
    "name": "ipython",
    "version": 3
   },
   "file_extension": ".py",
   "mimetype": "text/x-python",
   "name": "python",
   "nbconvert_exporter": "python",
   "pygments_lexer": "ipython3",
   "version": "3.12.8"
  }
 },
 "nbformat": 4,
 "nbformat_minor": 5
}
