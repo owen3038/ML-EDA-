{
 "cells": [
  {
   "cell_type": "code",
   "execution_count": 1,
   "id": "eccbe909-1965-450a-a203-b4b401d09280",
   "metadata": {},
   "outputs": [
    {
     "data": {
      "text/html": [
       "<div>\n",
       "<style scoped>\n",
       "    .dataframe tbody tr th:only-of-type {\n",
       "        vertical-align: middle;\n",
       "    }\n",
       "\n",
       "    .dataframe tbody tr th {\n",
       "        vertical-align: top;\n",
       "    }\n",
       "\n",
       "    .dataframe thead th {\n",
       "        text-align: right;\n",
       "    }\n",
       "</style>\n",
       "<table border=\"1\" class=\"dataframe\">\n",
       "  <thead>\n",
       "    <tr style=\"text-align: right;\">\n",
       "      <th></th>\n",
       "      <th>Metric</th>\n",
       "      <th>Value</th>\n",
       "    </tr>\n",
       "  </thead>\n",
       "  <tbody>\n",
       "    <tr>\n",
       "      <th>0</th>\n",
       "      <td>Total Users</td>\n",
       "      <td>500</td>\n",
       "    </tr>\n",
       "    <tr>\n",
       "      <th>1</th>\n",
       "      <td>Total Features</td>\n",
       "      <td>28</td>\n",
       "    </tr>\n",
       "    <tr>\n",
       "      <th>2</th>\n",
       "      <td>Gender Breakdown</td>\n",
       "      <td>N/A</td>\n",
       "    </tr>\n",
       "    <tr>\n",
       "      <th>3</th>\n",
       "      <td>Average Age</td>\n",
       "      <td>0.51</td>\n",
       "    </tr>\n",
       "    <tr>\n",
       "      <th>4</th>\n",
       "      <td>Average Daily Usage (Minutes)</td>\n",
       "      <td>0.41</td>\n",
       "    </tr>\n",
       "  </tbody>\n",
       "</table>\n",
       "</div>"
      ],
      "text/plain": [
       "                          Metric Value\n",
       "0                    Total Users   500\n",
       "1                 Total Features    28\n",
       "2               Gender Breakdown   N/A\n",
       "3                    Average Age  0.51\n",
       "4  Average Daily Usage (Minutes)  0.41"
      ]
     },
     "execution_count": 1,
     "metadata": {},
     "output_type": "execute_result"
    }
   ],
   "source": [
    "import pandas as pd\n",
    "\n",
    "# Load the final dataset\n",
    "df = pd.read_csv(\"feature_engineered_data.csv\")\n",
    "\n",
    "# Basic dataset summary\n",
    "summary = {\n",
    "    \"Total Users\": df.shape[0],\n",
    "    \"Total Features\": df.shape[1],\n",
    "    \"Gender Breakdown\": df[\"Gender_Male\"].value_counts().to_dict() if \"Gender_Male\" in df.columns else \"N/A\",\n",
    "    \"Average Age\": round(df[\"Age\"].mean(), 2),\n",
    "    \"Average Daily Usage (Minutes)\": round(df[\"Daily_Usage_Time\"].mean(), 2),\n",
    "}\n",
    "\n",
    "# Convert summary to DataFrame and save\n",
    "summary_df = pd.DataFrame(list(summary.items()), columns=[\"Metric\", \"Value\"])\n",
    "summary_df.to_csv(\"final_summary.csv\", index=False)\n",
    "\n",
    "# Display summary\n",
    "summary_df\n"
   ]
  },
  {
   "cell_type": "code",
   "execution_count": 2,
   "id": "d1edd4e6-640c-45e9-ac1a-2619d7327721",
   "metadata": {},
   "outputs": [
    {
     "name": "stdout",
     "output_type": "stream",
     "text": [
      "README.md updated successfully!\n"
     ]
    }
   ],
   "source": [
    "final_readme = \"\"\"\n",
    "# GenZ Dating App Analysis - Final Report\n",
    "\n",
    "## 📊 Project Overview\n",
    "This project analyzed dating app usage among Gen-Z, focusing on:\n",
    "- Gender-based preferences\n",
    "- Age-related usage trends\n",
    "- Regional and temporal behavior\n",
    "- Feature engineering for predictive modeling\n",
    "\n",
    "## 📊 Key Insights\n",
    "- The most active users are between **{0} and {1} years old**.\n",
    "- Users spend an average of **{2} minutes daily** on dating apps.\n",
    "- **Metro users** tend to be more active compared to rural users.\n",
    "- Many users use **multiple dating apps simultaneously**.\n",
    "\n",
    "## 📂 Files Included\n",
    "- `feature_engineered_data.csv` - Final dataset\n",
    "- `final_summary.csv` - Summary of key metrics\n",
    "- `final_summary.ipynb` - Notebook with insights\n",
    "\n",
    "## 📌 Next Steps\n",
    "- Apply machine learning models to predict user behavior.\n",
    "- Improve data collection for underrepresented demographics.\n",
    "\"\"\".format(df[\"Age\"].min(), df[\"Age\"].max(), round(df[\"Daily_Usage_Time\"].mean(), 2))\n",
    "\n",
    "# Save README file\n",
    "with open(\"README.md\", \"w\", encoding=\"utf-8\") as file:\n",
    "    file.write(final_readme)\n",
    "\n",
    "print(\"README.md updated successfully!\")\n"
   ]
  },
  {
   "cell_type": "code",
   "execution_count": null,
   "id": "38f23c88-c6dc-4936-a0ec-83888b271517",
   "metadata": {},
   "outputs": [],
   "source": []
  }
 ],
 "metadata": {
  "kernelspec": {
   "display_name": "Python 3 (ipykernel)",
   "language": "python",
   "name": "python3"
  },
  "language_info": {
   "codemirror_mode": {
    "name": "ipython",
    "version": 3
   },
   "file_extension": ".py",
   "mimetype": "text/x-python",
   "name": "python",
   "nbconvert_exporter": "python",
   "pygments_lexer": "ipython3",
   "version": "3.12.8"
  }
 },
 "nbformat": 4,
 "nbformat_minor": 5
}
